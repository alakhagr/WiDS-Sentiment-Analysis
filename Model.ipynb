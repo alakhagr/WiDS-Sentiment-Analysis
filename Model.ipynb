{
 "cells": [
  {
   "cell_type": "code",
   "execution_count": 3,
   "id": "917fda76",
   "metadata": {},
   "outputs": [],
   "source": [
    "import numpy as np\n",
    "import pandas as pd\n",
    "import matplotlib.pyplot as plt\n",
    "import nltk\n",
    "import nltk.corpus\n",
    "from nltk.tokenize import word_tokenize \n",
    "from nltk.tokenize import blankline_tokenize \n",
    "#nltk.download('punkt')\n",
    "#nltk.download()"
   ]
  },
  {
   "cell_type": "code",
   "execution_count": 4,
   "id": "81f5c07d",
   "metadata": {},
   "outputs": [],
   "source": [
    "data = pd.read_csv(\"Dataset/training.csv\")"
   ]
  },
  {
   "cell_type": "code",
   "execution_count": 5,
   "id": "95fb74ba",
   "metadata": {},
   "outputs": [],
   "source": [
    "data1 = pd.read_csv(\"Dataset/test.csv\")"
   ]
  },
  {
   "cell_type": "code",
   "execution_count": 6,
   "id": "6d80b689",
   "metadata": {},
   "outputs": [],
   "source": [
    "sent = data['text'].tolist() + data1['text'].tolist()"
   ]
  },
  {
   "cell_type": "code",
   "execution_count": 7,
   "id": "6fd15868",
   "metadata": {},
   "outputs": [
    {
     "data": {
      "text/plain": [
       "20000"
      ]
     },
     "execution_count": 7,
     "metadata": {},
     "output_type": "execute_result"
    }
   ],
   "source": [
    "len(sent)"
   ]
  },
  {
   "cell_type": "code",
   "execution_count": 8,
   "id": "7d164082",
   "metadata": {},
   "outputs": [
    {
     "name": "stdout",
     "output_type": "stream",
     "text": [
      "im feeling rather rotten so im not very ambitious right now\n"
     ]
    }
   ],
   "source": [
    "print(sent[18000])"
   ]
  },
  {
   "cell_type": "code",
   "execution_count": 9,
   "id": "92d4e2ba",
   "metadata": {},
   "outputs": [],
   "source": [
    "mystr = \"\"\n",
    "for words in sent:\n",
    "    mystr += ' ' + words"
   ]
  },
  {
   "cell_type": "code",
   "execution_count": 10,
   "id": "52f6e7b2",
   "metadata": {},
   "outputs": [
    {
     "data": {
      "text/plain": [
       "382881"
      ]
     },
     "execution_count": 10,
     "metadata": {},
     "output_type": "execute_result"
    }
   ],
   "source": [
    "tokens = word_tokenize(mystr)\n",
    "len(tokens)"
   ]
  },
  {
   "cell_type": "code",
   "execution_count": 11,
   "id": "03c0bcdf",
   "metadata": {},
   "outputs": [],
   "source": [
    "from nltk.probability import FreqDist\n",
    "fdist = FreqDist()"
   ]
  },
  {
   "cell_type": "code",
   "execution_count": 12,
   "id": "b42bea53",
   "metadata": {},
   "outputs": [],
   "source": [
    "for word in tokens:\n",
    "    fdist[word.lower()] += 1"
   ]
  },
  {
   "cell_type": "code",
   "execution_count": 13,
   "id": "279e1d00",
   "metadata": {},
   "outputs": [
    {
     "data": {
      "text/plain": [
       "FreqDist({'i': 32242, 'feel': 13938, 'and': 11996, 'to': 11208, 'the': 10462, 'a': 7748, 'feeling': 6431, 'that': 6314, 'of': 6182, 'my': 5326, ...})"
      ]
     },
     "execution_count": 13,
     "metadata": {},
     "output_type": "execute_result"
    }
   ],
   "source": [
    "fdist"
   ]
  },
  {
   "cell_type": "code",
   "execution_count": 14,
   "id": "77c9e1d2",
   "metadata": {},
   "outputs": [
    {
     "data": {
      "text/plain": [
       "[('i', 32242),\n",
       " ('feel', 13938),\n",
       " ('and', 11996),\n",
       " ('to', 11208),\n",
       " ('the', 10462),\n",
       " ('a', 7748),\n",
       " ('feeling', 6431),\n",
       " ('that', 6314),\n",
       " ('of', 6182),\n",
       " ('my', 5326),\n",
       " ('in', 4239),\n",
       " ('it', 3922),\n",
       " ('like', 3616),\n",
       " ('so', 3127),\n",
       " ('im', 3055),\n",
       " ('for', 3021),\n",
       " ('me', 2901),\n",
       " ('was', 2828),\n",
       " ('have', 2803),\n",
       " ('but', 2790),\n",
       " ('is', 2718),\n",
       " ('this', 2606),\n",
       " ('am', 2591),\n",
       " ('with', 2530),\n",
       " ('not', 2401),\n",
       " ('about', 2249),\n",
       " ('be', 2193),\n",
       " ('as', 1945),\n",
       " ('on', 1925),\n",
       " ('you', 1878),\n",
       " ('just', 1814),\n",
       " ('at', 1728),\n",
       " ('when', 1689),\n",
       " ('or', 1564),\n",
       " ('all', 1456),\n",
       " ('because', 1433),\n",
       " ('more', 1396),\n",
       " ('do', 1312),\n",
       " ('can', 1298),\n",
       " ('really', 1182),\n",
       " ('up', 1165),\n",
       " ('t', 1156),\n",
       " ('by', 1108),\n",
       " ('are', 1104),\n",
       " ('very', 1086),\n",
       " ('know', 1080),\n",
       " ('been', 1056),\n",
       " ('if', 1046),\n",
       " ('out', 1024),\n",
       " ('myself', 1004),\n",
       " ('time', 993),\n",
       " ('what', 984),\n",
       " ('how', 957),\n",
       " ('little', 932),\n",
       " ('get', 926),\n",
       " ('had', 898),\n",
       " ('will', 887),\n",
       " ('now', 878),\n",
       " ('from', 876),\n",
       " ('they', 855),\n",
       " ('being', 849),\n",
       " ('people', 839),\n",
       " ('he', 834),\n",
       " ('want', 802),\n",
       " ('them', 801),\n",
       " ('would', 798),\n",
       " ('her', 780),\n",
       " ('some', 750),\n",
       " ('still', 740),\n",
       " ('one', 739),\n",
       " ('who', 726),\n",
       " ('think', 726),\n",
       " ('ive', 723),\n",
       " ('him', 718),\n",
       " ('even', 717),\n",
       " ('an', 700),\n",
       " ('life', 678),\n",
       " ('its', 657),\n",
       " ('there', 652),\n",
       " ('bit', 642),\n",
       " ('make', 639),\n",
       " ('we', 633),\n",
       " ('something', 630),\n",
       " ('much', 618),\n",
       " ('love', 617),\n",
       " ('things', 607),\n",
       " ('going', 606),\n",
       " ('s', 602),\n",
       " ('dont', 596),\n",
       " ('way', 571),\n",
       " ('m', 567),\n",
       " ('could', 567),\n",
       " ('no', 561),\n",
       " ('than', 557),\n",
       " ('day', 540),\n",
       " ('too', 534),\n",
       " ('she', 518),\n",
       " ('don', 507),\n",
       " ('has', 500),\n",
       " ('back', 498),\n",
       " ('go', 493),\n",
       " ('pretty', 491),\n",
       " ('good', 481),\n",
       " ('into', 477),\n",
       " ('need', 477),\n",
       " ('which', 468),\n",
       " ('his', 459),\n",
       " ('always', 453),\n",
       " ('their', 452),\n",
       " ('these', 446),\n",
       " ('right', 444),\n",
       " ('see', 440),\n",
       " ('your', 435),\n",
       " ('only', 427),\n",
       " ('over', 426),\n",
       " ('also', 423),\n",
       " ('other', 423),\n",
       " ('feelings', 419),\n",
       " ('feels', 416),\n",
       " ('say', 416),\n",
       " ('then', 415),\n",
       " ('work', 407),\n",
       " ('today', 407),\n",
       " ('should', 405),\n",
       " ('did', 402),\n",
       " ('after', 398),\n",
       " ('again', 388),\n",
       " ('around', 382),\n",
       " ('cant', 376),\n",
       " ('were', 369),\n",
       " ('made', 368),\n",
       " ('though', 365),\n",
       " ('most', 360),\n",
       " ('got', 347),\n",
       " ('here', 345),\n",
       " ('well', 344),\n",
       " ('our', 344),\n",
       " ('didnt', 334),\n",
       " ('help', 334),\n",
       " ('those', 333),\n",
       " ('never', 329),\n",
       " ('felt', 326),\n",
       " ('any', 326),\n",
       " ('someone', 324),\n",
       " ('down', 322),\n",
       " ('through', 322),\n",
       " ('where', 318),\n",
       " ('doing', 312),\n",
       " ('every', 311),\n",
       " ('days', 311),\n",
       " ('happy', 311),\n",
       " ('less', 308),\n",
       " ('having', 307),\n",
       " ('quite', 305),\n",
       " ('makes', 303),\n",
       " ('sure', 302),\n",
       " ('enough', 295),\n",
       " ('many', 292),\n",
       " ('lot', 287),\n",
       " ('find', 283),\n",
       " ('off', 277),\n",
       " ('anything', 276),\n",
       " ('away', 276),\n",
       " ('look', 272),\n",
       " ('why', 271),\n",
       " ('home', 270),\n",
       " ('kind', 268),\n",
       " ('left', 268),\n",
       " ('better', 268),\n",
       " ('last', 267),\n",
       " ('person', 265),\n",
       " ('come', 265),\n",
       " ('without', 264),\n",
       " ('everything', 262),\n",
       " ('before', 261),\n",
       " ('ever', 260),\n",
       " ('take', 258),\n",
       " ('getting', 253),\n",
       " ('friends', 253),\n",
       " ('own', 251),\n",
       " ('while', 250),\n",
       " ('sometimes', 250),\n",
       " ('world', 246),\n",
       " ('such', 245),\n",
       " ('new', 245),\n",
       " ('few', 243),\n",
       " ('http', 241),\n",
       " ('actually', 239),\n",
       " ('started', 238),\n",
       " ('thought', 235),\n",
       " ('thing', 234),\n",
       " ('trying', 233),\n",
       " ('year', 227),\n",
       " ('remember', 227),\n",
       " ('first', 226),\n",
       " ('week', 225),\n",
       " ('able', 222),\n",
       " ('said', 220),\n",
       " ('family', 220),\n",
       " ('times', 216),\n",
       " ('bad', 211),\n",
       " ('try', 208),\n",
       " ('href', 207),\n",
       " ('long', 206),\n",
       " ('rather', 204),\n",
       " ('let', 203),\n",
       " ('making', 202),\n",
       " ('tell', 198),\n",
       " ('keep', 197),\n",
       " ('already', 196),\n",
       " ('since', 195),\n",
       " ('alone', 194),\n",
       " ('ill', 192),\n",
       " ('start', 192),\n",
       " ('same', 192),\n",
       " ('read', 188),\n",
       " ('us', 188),\n",
       " ('others', 188),\n",
       " ('give', 187),\n",
       " ('two', 186),\n",
       " ('heart', 185),\n",
       " ('end', 185),\n",
       " ('yet', 182),\n",
       " ('often', 182),\n",
       " ('years', 181),\n",
       " ('morning', 181),\n",
       " ('nothing', 180),\n",
       " ('write', 179),\n",
       " ('stressed', 178),\n",
       " ('place', 177),\n",
       " ('part', 177),\n",
       " ('god', 174),\n",
       " ('hate', 174),\n",
       " ('may', 173),\n",
       " ('blog', 173),\n",
       " ('night', 173),\n",
       " ('hope', 172),\n",
       " ('might', 172),\n",
       " ('strange', 172),\n",
       " ('sweet', 172),\n",
       " ('overwhelmed', 171),\n",
       " ('didn', 168),\n",
       " ('moment', 168),\n",
       " ('put', 167),\n",
       " ('weird', 167),\n",
       " ('id', 164),\n",
       " ('school', 164),\n",
       " ('another', 164),\n",
       " ('looking', 162),\n",
       " ('point', 161),\n",
       " ('amazing', 161),\n",
       " ('guess', 160),\n",
       " ('sad', 159),\n",
       " ('hard', 159),\n",
       " ('thinking', 159),\n",
       " ('angry', 158),\n",
       " ('pain', 158),\n",
       " ('whole', 158),\n",
       " ('anyone', 157),\n",
       " ('excited', 157),\n",
       " ('stop', 157),\n",
       " ('each', 156),\n",
       " ('done', 156),\n",
       " ('once', 155),\n",
       " ('lost', 155),\n",
       " ('everyone', 154),\n",
       " ('wanted', 153),\n",
       " ('loved', 153),\n",
       " ('almost', 152),\n",
       " ('hurt', 151),\n",
       " ('completely', 150),\n",
       " ('blessed', 149),\n",
       " ('went', 149),\n",
       " ('old', 148),\n",
       " ('especially', 148),\n",
       " ('next', 148),\n",
       " ('friend', 147),\n",
       " ('maybe', 147),\n",
       " ('accepted', 146),\n",
       " ('talk', 146),\n",
       " ('self', 145),\n",
       " ('body', 143),\n",
       " ('passionate', 143),\n",
       " ('hated', 142),\n",
       " ('does', 142),\n",
       " ('writing', 141),\n",
       " ('important', 140),\n",
       " ('free', 139),\n",
       " ('helpless', 139),\n",
       " ('post', 138),\n",
       " ('fact', 138),\n",
       " ('cold', 137),\n",
       " ('else', 137),\n",
       " ('face', 137),\n",
       " ('great', 136),\n",
       " ('past', 136),\n",
       " ('tired', 135),\n",
       " ('ve', 135),\n",
       " ('must', 135),\n",
       " ('afraid', 134),\n",
       " ('believe', 134),\n",
       " ('least', 133),\n",
       " ('stupid', 133),\n",
       " ('understand', 132),\n",
       " ('agitated', 131),\n",
       " ('towards', 130),\n",
       " ('use', 129),\n",
       " ('sleep', 129),\n",
       " ('care', 129),\n",
       " ('real', 128),\n",
       " ('leave', 128),\n",
       " ('starting', 128),\n",
       " ('sense', 127),\n",
       " ('book', 126),\n",
       " ('until', 126),\n",
       " ('lately', 125),\n",
       " ('mean', 125),\n",
       " ('told', 125),\n",
       " ('inside', 125),\n",
       " ('best', 124),\n",
       " ('share', 124),\n",
       " ('found', 123),\n",
       " ('used', 122),\n",
       " ('anxious', 122),\n",
       " ('girl', 120),\n",
       " ('thankful', 120),\n",
       " ('wasnt', 119),\n",
       " ('reason', 119),\n",
       " ('supporting', 119),\n",
       " ('mind', 118),\n",
       " ('generous', 118),\n",
       " ('sorry', 118),\n",
       " ('thats', 118),\n",
       " ('job', 118),\n",
       " ('coming', 117),\n",
       " ('become', 116),\n",
       " ('slightly', 116),\n",
       " ('sort', 116),\n",
       " ('depressed', 116),\n",
       " ('words', 115),\n",
       " ('strong', 115),\n",
       " ('taking', 114),\n",
       " ('far', 114),\n",
       " ('wonderful', 114),\n",
       " ('live', 113),\n",
       " ('ok', 113),\n",
       " ('nervous', 113),\n",
       " ('guilty', 113),\n",
       " ('loving', 112),\n",
       " ('class', 112),\n",
       " ('head', 112),\n",
       " ('re', 112),\n",
       " ('probably', 112),\n",
       " ('glad', 111),\n",
       " ('wish', 111),\n",
       " ('perfect', 110),\n",
       " ('special', 110),\n",
       " ('house', 110),\n",
       " ('working', 110),\n",
       " ('came', 110),\n",
       " ('show', 109),\n",
       " ('lonely', 109),\n",
       " ('totally', 108),\n",
       " ('months', 108),\n",
       " ('amp', 108),\n",
       " ('scared', 108),\n",
       " ('man', 107),\n",
       " ('saying', 107),\n",
       " ('frustrated', 107),\n",
       " ('reading', 107),\n",
       " ('low', 106),\n",
       " ('emotional', 106),\n",
       " ('cool', 106),\n",
       " ('comfortable', 105),\n",
       " ('extremely', 104),\n",
       " ('during', 104),\n",
       " ('fine', 104),\n",
       " ('proud', 104),\n",
       " ('particularly', 103),\n",
       " ('safe', 103),\n",
       " ('kids', 102),\n",
       " ('call', 102),\n",
       " ('finally', 101),\n",
       " ('confident', 101),\n",
       " ('child', 100),\n",
       " ('thoughts', 100),\n",
       " ('truly', 100),\n",
       " ('stuff', 99),\n",
       " ('positive', 99),\n",
       " ('exhausted', 99),\n",
       " ('hot', 98),\n",
       " ('big', 98),\n",
       " ('change', 98),\n",
       " ('wont', 97),\n",
       " ('ashamed', 96),\n",
       " ('eyes', 96),\n",
       " ('run', 96),\n",
       " ('woke', 96),\n",
       " ('liked', 96),\n",
       " ('admit', 96),\n",
       " ('tortured', 95),\n",
       " ('bed', 95),\n",
       " ('spent', 95),\n",
       " ('terrified', 94),\n",
       " ('hear', 94),\n",
       " ('beloved', 94),\n",
       " ('together', 94),\n",
       " ('missed', 94),\n",
       " ('funny', 93),\n",
       " ('experience', 93),\n",
       " ('walk', 93),\n",
       " ('children', 93),\n",
       " ('doesnt', 93),\n",
       " ('bothered', 93),\n",
       " ('embarrassed', 92),\n",
       " ('havent', 92),\n",
       " ('enjoy', 92),\n",
       " ('full', 92),\n",
       " ('wrong', 91),\n",
       " ('anymore', 91),\n",
       " ('miserable', 91),\n",
       " ('future', 91),\n",
       " ('awkward', 91),\n",
       " ('knew', 91),\n",
       " ('hours', 91),\n",
       " ('caring', 91),\n",
       " ('mad', 91),\n",
       " ('decided', 90),\n",
       " ('weeks', 90),\n",
       " ('amazed', 90),\n",
       " ('room', 90),\n",
       " ('content', 89),\n",
       " ('idea', 89),\n",
       " ('lucky', 89),\n",
       " ('irritable', 89),\n",
       " ('unhappy', 89),\n",
       " ('energy', 88),\n",
       " ('usually', 88),\n",
       " ('creative', 88),\n",
       " ('inspired', 88),\n",
       " ('matter', 88),\n",
       " ('horrible', 88),\n",
       " ('instead', 88),\n",
       " ('knowing', 88),\n",
       " ('seem', 88),\n",
       " ('story', 87),\n",
       " ('living', 87),\n",
       " ('control', 87),\n",
       " ('baby', 87),\n",
       " ('lovely', 87),\n",
       " ('disappointed', 87),\n",
       " ('both', 87),\n",
       " ('super', 87),\n",
       " ('confused', 86),\n",
       " ('surprised', 86),\n",
       " ('talented', 86),\n",
       " ('shitty', 86),\n",
       " ('seems', 86),\n",
       " ('rest', 86),\n",
       " ('cute', 86),\n",
       " ('somewhat', 86),\n",
       " ('close', 85),\n",
       " ('brave', 85),\n",
       " ('ago', 85),\n",
       " ('between', 85),\n",
       " ('running', 84),\n",
       " ('popular', 84),\n",
       " ('uncomfortable', 84),\n",
       " ('successful', 84),\n",
       " ('terrible', 84),\n",
       " ('women', 84),\n",
       " ('move', 84),\n",
       " ('satisfied', 84),\n",
       " ('eat', 83),\n",
       " ('longer', 83),\n",
       " ('ask', 83),\n",
       " ('miss', 83),\n",
       " ('somehow', 83),\n",
       " ('punished', 83),\n",
       " ('annoyed', 83),\n",
       " ('useless', 83),\n",
       " ('selfish', 82),\n",
       " ('unsure', 82),\n",
       " ('sitting', 82),\n",
       " ('mother', 82),\n",
       " ('fun', 81),\n",
       " ('discouraged', 81),\n",
       " ('talking', 81),\n",
       " ('situation', 81),\n",
       " ('food', 81),\n",
       " ('sit', 80),\n",
       " ('calm', 80),\n",
       " ('awful', 80),\n",
       " ('greedy', 79),\n",
       " ('irritated', 79),\n",
       " ('money', 79),\n",
       " ('woman', 79),\n",
       " ('wear', 79),\n",
       " ('giving', 79),\n",
       " ('vulnerable', 79),\n",
       " ('dull', 79),\n",
       " ('lethargic', 79),\n",
       " ('couldnt', 79),\n",
       " ('guy', 79),\n",
       " ('mom', 78),\n",
       " ('useful', 78),\n",
       " ('absolutely', 78),\n",
       " ('needed', 78),\n",
       " ('convinced', 78),\n",
       " ('hand', 78),\n",
       " ('uncertain', 78),\n",
       " ('kinda', 77),\n",
       " ('small', 77),\n",
       " ('pissed', 77),\n",
       " ('curious', 77),\n",
       " ('comes', 77),\n",
       " ('offended', 77),\n",
       " ('empty', 77),\n",
       " ('happen', 77),\n",
       " ('pleasant', 77),\n",
       " ('hopeless', 76),\n",
       " ('side', 76),\n",
       " ('hes', 76),\n",
       " ('asked', 76),\n",
       " ('relaxed', 76),\n",
       " ('soon', 76),\n",
       " ('music', 76),\n",
       " ('stay', 76),\n",
       " ('insulted', 76),\n",
       " ('determined', 76),\n",
       " ('devastated', 76),\n",
       " ('impressed', 75),\n",
       " ('rude', 75),\n",
       " ('violent', 75),\n",
       " ('rushed', 75),\n",
       " ('cause', 75),\n",
       " ('apprehensive', 75),\n",
       " ('rich', 75),\n",
       " ('insecure', 75),\n",
       " ('either', 75),\n",
       " ('wonder', 75),\n",
       " ('resentful', 75),\n",
       " ('isolated', 75),\n",
       " ('hopeful', 74),\n",
       " ('precious', 74),\n",
       " ('rejected', 74),\n",
       " ('different', 74),\n",
       " ('aching', 74),\n",
       " ('took', 74),\n",
       " ('whether', 74),\n",
       " ('ugly', 74),\n",
       " ('vain', 74),\n",
       " ('hair', 74),\n",
       " ('against', 74),\n",
       " ('valued', 74),\n",
       " ('ll', 74),\n",
       " ('youre', 74),\n",
       " ('dumb', 74),\n",
       " ('open', 74),\n",
       " ('numb', 74),\n",
       " ('gorgeous', 73),\n",
       " ('nice', 73),\n",
       " ('jealous', 73),\n",
       " ('relationship', 73),\n",
       " ('sympathetic', 73),\n",
       " ('watching', 73),\n",
       " ('melancholy', 73),\n",
       " ('na', 73),\n",
       " ('burdened', 72),\n",
       " ('pathetic', 72),\n",
       " ('fucked', 72),\n",
       " ('unwelcome', 72),\n",
       " ('homesick', 72),\n",
       " ('shaken', 72),\n",
       " ('sick', 72),\n",
       " ('disgusted', 72),\n",
       " ('shy', 72),\n",
       " ('sincere', 72),\n",
       " ('weekend', 72),\n",
       " ('happened', 72),\n",
       " ('energetic', 71),\n",
       " ('innocent', 71),\n",
       " ('cranky', 71),\n",
       " ('gloomy', 71),\n",
       " ('divine', 70),\n",
       " ('began', 70),\n",
       " ('support', 70),\n",
       " ('however', 70),\n",
       " ('beautiful', 70),\n",
       " ('parents', 70),\n",
       " ('faithful', 70),\n",
       " ('groggy', 70),\n",
       " ('simply', 70),\n",
       " ('ways', 70),\n",
       " ('husband', 70),\n",
       " ('turn', 70),\n",
       " ('joyful', 70),\n",
       " ('tonight', 70),\n",
       " ('www', 70),\n",
       " ('seeing', 69),\n",
       " ('dissatisfied', 69),\n",
       " ('pressured', 69),\n",
       " ('definitely', 69),\n",
       " ('assured', 69),\n",
       " ('watch', 69),\n",
       " ('bitchy', 69),\n",
       " ('blank', 69),\n",
       " ('crappy', 69),\n",
       " ('respected', 69),\n",
       " ('smart', 69),\n",
       " ('valuable', 69),\n",
       " ('wake', 69),\n",
       " ('paranoid', 69),\n",
       " ('bitter', 68),\n",
       " ('couple', 68),\n",
       " ('ready', 68),\n",
       " ('realize', 68),\n",
       " ('worthless', 68),\n",
       " ('distracted', 68),\n",
       " ('certain', 68),\n",
       " ('ignored', 68),\n",
       " ('productive', 68),\n",
       " ('hesitant', 68),\n",
       " ('honestly', 68),\n",
       " ('humiliated', 67),\n",
       " ('defeated', 67),\n",
       " ('course', 67),\n",
       " ('honored', 67),\n",
       " ('reluctant', 67),\n",
       " ('front', 67),\n",
       " ('dangerous', 67),\n",
       " ('beaten', 67),\n",
       " ('longing', 67),\n",
       " ('tender', 67),\n",
       " ('yesterday', 67),\n",
       " ('books', 67),\n",
       " ('drained', 67),\n",
       " ('peaceful', 67),\n",
       " ('pleased', 67),\n",
       " ('superior', 66),\n",
       " ('under', 66),\n",
       " ('girls', 66),\n",
       " ('unimportant', 66),\n",
       " ('shes', 66),\n",
       " ('whatever', 66),\n",
       " ('trust', 66),\n",
       " ('intimidated', 66),\n",
       " ('wanting', 66),\n",
       " ('friendly', 66),\n",
       " ('incredibly', 66),\n",
       " ('half', 66),\n",
       " ('heartbroken', 66),\n",
       " ('optimistic', 66),\n",
       " ('dirty', 66),\n",
       " ('song', 66),\n",
       " ('romantic', 65),\n",
       " ('needs', 65),\n",
       " ('festive', 65),\n",
       " ('mine', 65),\n",
       " ('worthwhile', 65),\n",
       " ('eager', 65),\n",
       " ('mellow', 65),\n",
       " ('thrilled', 65),\n",
       " ('inadequate', 65),\n",
       " ('lives', 64),\n",
       " ('gentle', 64),\n",
       " ('young', 64),\n",
       " ('emotions', 64),\n",
       " ('buy', 64),\n",
       " ('d', 64),\n",
       " ('gone', 64),\n",
       " ('boring', 64),\n",
       " ('disheartened', 64),\n",
       " ('second', 64),\n",
       " ('theres', 64),\n",
       " ('tried', 64),\n",
       " ('petty', 64),\n",
       " ('nostalgic', 63),\n",
       " ('christmas', 63),\n",
       " ('fake', 63),\n",
       " ('three', 63),\n",
       " ('weight', 63),\n",
       " ('joy', 63),\n",
       " ('damaged', 63),\n",
       " ('clever', 63),\n",
       " ('broke', 63),\n",
       " ('naughty', 63),\n",
       " ('threatened', 63),\n",
       " ('upset', 63),\n",
       " ('troubled', 63),\n",
       " ('men', 63),\n",
       " ('set', 63),\n",
       " ('lousy', 62),\n",
       " ('listen', 62),\n",
       " ('acceptable', 61),\n",
       " ('spend', 61),\n",
       " ('high', 61),\n",
       " ('horny', 61),\n",
       " ('resolved', 61),\n",
       " ('regretful', 61),\n",
       " ('ones', 61),\n",
       " ('suddenly', 61),\n",
       " ('shaky', 61),\n",
       " ('realized', 61),\n",
       " ('waiting', 61),\n",
       " ('suffering', 60),\n",
       " ('supportive', 60),\n",
       " ('outside', 60),\n",
       " ('delicious', 60),\n",
       " ('true', 60),\n",
       " ('welcomed', 60),\n",
       " ('guys', 60),\n",
       " ('hour', 60),\n",
       " ('plan', 59),\n",
       " ('wronged', 59),\n",
       " ('cry', 59),\n",
       " ('called', 59),\n",
       " ('shocked', 59),\n",
       " ('restless', 59),\n",
       " ('disturbed', 59),\n",
       " ('rotten', 59),\n",
       " ('deep', 59),\n",
       " ('oh', 59),\n",
       " ('game', 59),\n",
       " ('skin', 59),\n",
       " ('given', 58),\n",
       " ('honoured', 58),\n",
       " ('continue', 58),\n",
       " ('whenever', 58),\n",
       " ('impatient', 58),\n",
       " ('relieved', 58),\n",
       " ('intelligent', 58),\n",
       " ('lame', 58),\n",
       " ('summer', 58),\n",
       " ('supposed', 57),\n",
       " ('fearful', 57),\n",
       " ('needy', 57),\n",
       " ('exactly', 57),\n",
       " ('loyal', 57),\n",
       " ('wasn', 57),\n",
       " ('eating', 57),\n",
       " ('grumpy', 57),\n",
       " ('deal', 57),\n",
       " ('discontent', 57),\n",
       " ('behind', 57),\n",
       " ('virtuous', 57),\n",
       " ('ungrateful', 57),\n",
       " ('later', 57),\n",
       " ('list', 56),\n",
       " ('trusting', 56),\n",
       " ('country', 56),\n",
       " ('word', 56),\n",
       " ('fabulous', 56),\n",
       " ('deprived', 56),\n",
       " ('toward', 56),\n",
       " ('taken', 56),\n",
       " ('style', 56),\n",
       " ('terrific', 56),\n",
       " ('frightened', 56),\n",
       " ('hands', 56),\n",
       " ('doomed', 56),\n",
       " ('grateful', 55),\n",
       " ('listless', 55),\n",
       " ('fantastic', 55),\n",
       " ('isnt', 55),\n",
       " ('fear', 55),\n",
       " ('privileged', 55),\n",
       " ('unfortunate', 55),\n",
       " ('adventurous', 55),\n",
       " ('boy', 55),\n",
       " ('problems', 55),\n",
       " ('generally', 55),\n",
       " ('rebellious', 54),\n",
       " ('hold', 54),\n",
       " ('carefree', 54),\n",
       " ('normal', 54),\n",
       " ('play', 54),\n",
       " ('month', 54),\n",
       " ('although', 54),\n",
       " ('learn', 54),\n",
       " ('leaving', 54),\n",
       " ('reassured', 53),\n",
       " ('etc', 53),\n",
       " ('smug', 53),\n",
       " ('meet', 53),\n",
       " ('car', 53),\n",
       " ('saw', 53),\n",
       " ('touch', 53),\n",
       " ('name', 53),\n",
       " ('artistic', 53),\n",
       " ('within', 53),\n",
       " ('human', 53),\n",
       " ('stand', 53),\n",
       " ('foolish', 53),\n",
       " ('type', 52),\n",
       " ('mood', 52),\n",
       " ('wouldnt', 52),\n",
       " ('invigorated', 52),\n",
       " ('using', 52),\n",
       " ('single', 52),\n",
       " ('forward', 52),\n",
       " ('minutes', 52),\n",
       " ('suppose', 51),\n",
       " ('goes', 51),\n",
       " ('break', 51),\n",
       " ('fond', 51),\n",
       " ('learning', 51),\n",
       " ('constantly', 51),\n",
       " ('sat', 51),\n",
       " ('lack', 51),\n",
       " ('movie', 51),\n",
       " ('telling', 51),\n",
       " ('met', 51),\n",
       " ('jaded', 50),\n",
       " ('begin', 50),\n",
       " ('smile', 50),\n",
       " ('learned', 50),\n",
       " ('vital', 50),\n",
       " ('abused', 50),\n",
       " ('chance', 50),\n",
       " ('students', 50),\n",
       " ('desire', 50),\n",
       " ('phone', 50),\n",
       " ('putting', 50),\n",
       " ('wait', 50),\n",
       " ('triumphant', 50),\n",
       " ('ecstatic', 50),\n",
       " ('order', 50),\n",
       " ('fucking', 50),\n",
       " ('walked', 50),\n",
       " ('unloved', 49),\n",
       " ('attention', 49),\n",
       " ('along', 49),\n",
       " ('moments', 49),\n",
       " ('gets', 49),\n",
       " ('comments', 49),\n",
       " ('moving', 48),\n",
       " ('shit', 48),\n",
       " ('easy', 48),\n",
       " ('beginning', 48),\n",
       " ('light', 48),\n",
       " ('submissive', 48),\n",
       " ('dream', 48),\n",
       " ('casual', 48),\n",
       " ('stubborn', 48),\n",
       " ('team', 48),\n",
       " ('damn', 48),\n",
       " ('delicate', 48),\n",
       " ('worth', 48),\n",
       " ('possible', 47),\n",
       " ('skeptical', 47),\n",
       " ('seen', 47),\n",
       " ('yes', 47),\n",
       " ('perhaps', 47),\n",
       " ('race', 47),\n",
       " ('contented', 47),\n",
       " ('upon', 47),\n",
       " ('peace', 47),\n",
       " ('lose', 47),\n",
       " ('focus', 47),\n",
       " ('worried', 47),\n",
       " ('opportunity', 47),\n",
       " ('healthy', 47),\n",
       " ('top', 47),\n",
       " ('appreciative', 47),\n",
       " ('amount', 46),\n",
       " ('fall', 46),\n",
       " ('group', 46),\n",
       " ('doesn', 46),\n",
       " ('father', 46),\n",
       " ('water', 46),\n",
       " ('envious', 46),\n",
       " ('party', 46),\n",
       " ('stomach', 46),\n",
       " ('means', 46),\n",
       " ('imagine', 45),\n",
       " ('trip', 45),\n",
       " ('despite', 45),\n",
       " ('seriously', 45),\n",
       " ('space', 45),\n",
       " ('easily', 45),\n",
       " ('bring', 45),\n",
       " ('frantic', 45),\n",
       " ('spirit', 45),\n",
       " ('dazed', 45),\n",
       " ('age', 45),\n",
       " ('loss', 45),\n",
       " ('speak', 45),\n",
       " ('early', 45),\n",
       " ('amused', 44),\n",
       " ('strongly', 44),\n",
       " ('unpleasant', 44),\n",
       " ('arms', 44),\n",
       " ('tomorrow', 44),\n",
       " ('wearing', 44),\n",
       " ('art', 44),\n",
       " ('due', 44),\n",
       " ('messy', 44),\n",
       " ('looks', 44),\n",
       " ('finish', 44),\n",
       " ('sentimental', 43),\n",
       " ('distressed', 43),\n",
       " ('won', 43),\n",
       " ('piece', 43),\n",
       " ('personal', 43),\n",
       " ('walking', 43),\n",
       " ('act', 43),\n",
       " ('worked', 43),\n",
       " ('missing', 43),\n",
       " ('please', 43),\n",
       " ('anger', 43),\n",
       " ('known', 43),\n",
       " ('add', 43),\n",
       " ('tragic', 43),\n",
       " ('four', 43),\n",
       " ('wants', 43),\n",
       " ('kept', 43),\n",
       " ('characters', 43),\n",
       " ('deeply', 43),\n",
       " ('crazy', 43),\n",
       " ('heard', 42),\n",
       " ('several', 42),\n",
       " ('mostly', 42),\n",
       " ('short', 42),\n",
       " ('late', 42),\n",
       " ('src', 42),\n",
       " ('tears', 42),\n",
       " ('air', 42),\n",
       " ('voice', 42),\n",
       " ('doubtful', 42),\n",
       " ('recently', 42),\n",
       " ('negative', 42),\n",
       " ('questions', 42),\n",
       " ('community', 42),\n",
       " ('except', 42),\n",
       " ('delighted', 41),\n",
       " ('step', 41),\n",
       " ('finished', 41),\n",
       " ('themselves', 41),\n",
       " ('pressure', 41),\n",
       " ('line', 41),\n",
       " ('quickly', 41),\n",
       " ('gave', 41),\n",
       " ('worse', 41),\n",
       " ('red', 41),\n",
       " ('possibly', 41),\n",
       " ('news', 41),\n",
       " ('state', 41),\n",
       " ('worry', 40),\n",
       " ('level', 40),\n",
       " ('truth', 40),\n",
       " ('honest', 40),\n",
       " ('case', 40),\n",
       " ('keeping', 40),\n",
       " ('decision', 40),\n",
       " ('fairly', 40),\n",
       " ('says', 40),\n",
       " ('issues', 40),\n",
       " ('health', 40),\n",
       " ('spending', 40),\n",
       " ('suspicious', 40),\n",
       " ('church', 40),\n",
       " ('playful', 40),\n",
       " ('general', 39),\n",
       " ('explain', 39),\n",
       " ('everyday', 39),\n",
       " ('stories', 39),\n",
       " ('pictures', 39),\n",
       " ('dark', 39),\n",
       " ('crying', 39),\n",
       " ('son', 39),\n",
       " ('hell', 39),\n",
       " ('glamorous', 39),\n",
       " ('keen', 39),\n",
       " ('kid', 39),\n",
       " ('looked', 39),\n",
       " ('death', 39),\n",
       " ('personally', 39),\n",
       " ('allowed', 39),\n",
       " ('hit', 39),\n",
       " ('readers', 39),\n",
       " ('brain', 39),\n",
       " ('idiotic', 39),\n",
       " ('disillusioned', 39),\n",
       " ('wrote', 38),\n",
       " ('u', 38),\n",
       " ('college', 38),\n",
       " ('utterly', 38),\n",
       " ('sleeping', 38),\n",
       " ('wondering', 38),\n",
       " ('certainly', 38),\n",
       " ('presence', 38),\n",
       " ('cut', 38),\n",
       " ('physically', 38),\n",
       " ('across', 38),\n",
       " ('forget', 38),\n",
       " ('throw', 38),\n",
       " ('remorseful', 38),\n",
       " ('helping', 38),\n",
       " ('lie', 38)]"
      ]
     },
     "execution_count": 14,
     "metadata": {},
     "output_type": "execute_result"
    }
   ],
   "source": [
    "top_fdist = fdist.most_common(1000)\n",
    "top_fdist"
   ]
  },
  {
   "cell_type": "code",
   "execution_count": 15,
   "id": "2e121137",
   "metadata": {},
   "outputs": [],
   "source": [
    "from nltk.corpus import stopwords"
   ]
  },
  {
   "cell_type": "code",
   "execution_count": 16,
   "id": "bb33d5ab",
   "metadata": {},
   "outputs": [],
   "source": [
    "mystopw = []\n",
    "templist1 = fdist.most_common(50)\n",
    "for i in range(50):\n",
    "    mystopw.append(templist1[i][0])"
   ]
  },
  {
   "cell_type": "code",
   "execution_count": 17,
   "id": "d6fc81d3",
   "metadata": {},
   "outputs": [],
   "source": [
    "for w in stopwords.words('english'):\n",
    "    if w not in mystopw:\n",
    "        mystopw.append(w)"
   ]
  },
  {
   "cell_type": "code",
   "execution_count": 18,
   "id": "523d5bd3",
   "metadata": {},
   "outputs": [
    {
     "data": {
      "text/plain": [
       "185"
      ]
     },
     "execution_count": 18,
     "metadata": {},
     "output_type": "execute_result"
    }
   ],
   "source": [
    "len(mystopw)"
   ]
  },
  {
   "cell_type": "code",
   "execution_count": null,
   "id": "7be65c52",
   "metadata": {},
   "outputs": [],
   "source": []
  },
  {
   "cell_type": "code",
   "execution_count": null,
   "id": "d86c2585",
   "metadata": {},
   "outputs": [],
   "source": []
  },
  {
   "cell_type": "code",
   "execution_count": 19,
   "id": "b8246dc4",
   "metadata": {},
   "outputs": [
    {
     "name": "stdout",
     "output_type": "stream",
     "text": [
      "18000\n"
     ]
    }
   ],
   "source": [
    "n = len(data)\n",
    "print(n)"
   ]
  },
  {
   "cell_type": "code",
   "execution_count": 20,
   "id": "b1c560b5",
   "metadata": {},
   "outputs": [],
   "source": [
    "n1 = len(data1)"
   ]
  },
  {
   "cell_type": "code",
   "execution_count": 21,
   "id": "43e557f9",
   "metadata": {},
   "outputs": [],
   "source": [
    "import re\n",
    "punctuation = re.compile(r'[-.?!,:;()|0-9]')"
   ]
  },
  {
   "cell_type": "code",
   "execution_count": 22,
   "id": "482dcdaa",
   "metadata": {},
   "outputs": [],
   "source": [
    "ppr_data = []\n",
    "for i in range(n):\n",
    "    str1 = data['text'][i]\n",
    "    str2 = word_tokenize(str1)\n",
    "    str3 = []\n",
    "    for str2_words in str2:\n",
    "        str2_lemmatized = nltk.stem.WordNetLemmatizer().lemmatize(str2_words)\n",
    "        '''word1 = punctuation.sub(\"\", str2_lemmatized)\n",
    "        if len(word1)>0:\n",
    "            str3.append(word1)'''\n",
    "        if str2_lemmatized.lower() not in mystopw:\n",
    "            str3.append(str2_lemmatized)\n",
    "    ppr_data.append(str3)"
   ]
  },
  {
   "cell_type": "code",
   "execution_count": 23,
   "id": "d514b2bc",
   "metadata": {},
   "outputs": [],
   "source": [
    "for i in range(n1):\n",
    "    str11 = data1['text'][i]\n",
    "    str22 = word_tokenize(str11)\n",
    "    str33 = []\n",
    "    for str22_words in str22:\n",
    "        str22_lemmatized = nltk.stem.WordNetLemmatizer().lemmatize(str22_words)\n",
    "        '''word11 = punctuation.sub(\"\", str22_lemmatized)\n",
    "        if len(word11)>0:\n",
    "            str33.append(word11)'''\n",
    "        if str22_lemmatized.lower() not in mystopw:\n",
    "            str33.append(str22_lemmatized)\n",
    "    ppr_data.append(str33)"
   ]
  },
  {
   "cell_type": "code",
   "execution_count": 24,
   "id": "f246a1d3",
   "metadata": {},
   "outputs": [
    {
     "data": {
      "text/plain": [
       "20000"
      ]
     },
     "execution_count": 24,
     "metadata": {},
     "output_type": "execute_result"
    }
   ],
   "source": [
    "len(ppr_data)"
   ]
  },
  {
   "cell_type": "code",
   "execution_count": 25,
   "id": "ecf5a36d",
   "metadata": {},
   "outputs": [
    {
     "data": {
      "text/plain": [
       "['rather', 'rotten', 'ambitious', 'right']"
      ]
     },
     "execution_count": 25,
     "metadata": {},
     "output_type": "execute_result"
    }
   ],
   "source": [
    "ppr_data[18000]"
   ]
  },
  {
   "cell_type": "code",
   "execution_count": 26,
   "id": "b6a152e2",
   "metadata": {},
   "outputs": [],
   "source": [
    "from nltk.probability import FreqDist\n",
    "fdist = FreqDist()"
   ]
  },
  {
   "cell_type": "code",
   "execution_count": 27,
   "id": "e0a73a8f",
   "metadata": {},
   "outputs": [],
   "source": [
    "from nltk.tokenize.treebank import TreebankWordDetokenizer"
   ]
  },
  {
   "cell_type": "code",
   "execution_count": 28,
   "id": "ff5a5839",
   "metadata": {},
   "outputs": [],
   "source": [
    "ppr_data1 = []\n",
    "for i in range(len(ppr_data)):\n",
    "    ppr_data1.append(TreebankWordDetokenizer().detokenize(ppr_data[i]))"
   ]
  },
  {
   "cell_type": "code",
   "execution_count": 29,
   "id": "6f0c740d",
   "metadata": {},
   "outputs": [
    {
     "data": {
      "text/plain": [
       "'rather rotten ambitious right'"
      ]
     },
     "execution_count": 29,
     "metadata": {},
     "output_type": "execute_result"
    }
   ],
   "source": [
    "ppr_data1[18000]"
   ]
  },
  {
   "cell_type": "code",
   "execution_count": 30,
   "id": "563a9155",
   "metadata": {},
   "outputs": [
    {
     "data": {
      "text/plain": [
       "'weird meet w people text dont talk face face w'"
      ]
     },
     "execution_count": 30,
     "metadata": {},
     "output_type": "execute_result"
    }
   ],
   "source": [
    "ppr_data1[-1]"
   ]
  },
  {
   "cell_type": "code",
   "execution_count": 31,
   "id": "be7f68a9",
   "metadata": {},
   "outputs": [],
   "source": [
    "x_train = ppr_data1[:18000]\n",
    "y_train = data['label']"
   ]
  },
  {
   "cell_type": "code",
   "execution_count": 32,
   "id": "1eaaa4ad",
   "metadata": {},
   "outputs": [
    {
     "data": {
      "text/plain": [
       "'wannabuy cute make see online even one'"
      ]
     },
     "execution_count": 32,
     "metadata": {},
     "output_type": "execute_result"
    }
   ],
   "source": [
    "x_train[-1]"
   ]
  },
  {
   "cell_type": "code",
   "execution_count": 33,
   "id": "bacca171",
   "metadata": {},
   "outputs": [],
   "source": [
    "x_test = ppr_data1[18000:]"
   ]
  },
  {
   "cell_type": "code",
   "execution_count": 34,
   "id": "41c60c87",
   "metadata": {},
   "outputs": [
    {
     "data": {
      "text/plain": [
       "'weird meet w people text dont talk face face w'"
      ]
     },
     "execution_count": 34,
     "metadata": {},
     "output_type": "execute_result"
    }
   ],
   "source": [
    "x_test[-1]"
   ]
  },
  {
   "cell_type": "code",
   "execution_count": 35,
   "id": "796d8c51",
   "metadata": {},
   "outputs": [
    {
     "data": {
      "text/plain": [
       "18000"
      ]
     },
     "execution_count": 35,
     "metadata": {},
     "output_type": "execute_result"
    }
   ],
   "source": [
    "len(x_train)"
   ]
  },
  {
   "cell_type": "code",
   "execution_count": 36,
   "id": "587956f6",
   "metadata": {},
   "outputs": [
    {
     "data": {
      "text/plain": [
       "18000"
      ]
     },
     "execution_count": 36,
     "metadata": {},
     "output_type": "execute_result"
    }
   ],
   "source": [
    "len(y_train)"
   ]
  },
  {
   "cell_type": "code",
   "execution_count": 37,
   "id": "b01b9e86",
   "metadata": {},
   "outputs": [
    {
     "data": {
      "text/plain": [
       "2000"
      ]
     },
     "execution_count": 37,
     "metadata": {},
     "output_type": "execute_result"
    }
   ],
   "source": [
    "len(x_test)"
   ]
  },
  {
   "cell_type": "code",
   "execution_count": 38,
   "id": "e08b9ce0",
   "metadata": {},
   "outputs": [],
   "source": [
    "from sklearn.feature_extraction.text import TfidfVectorizer"
   ]
  },
  {
   "cell_type": "code",
   "execution_count": 39,
   "id": "9bba5cfe",
   "metadata": {},
   "outputs": [],
   "source": [
    "vectorizer = TfidfVectorizer(stop_words='english')\n",
    "vectorizer.fit(x_train)\n",
    "vector_train = vectorizer.transform(x_train)\n",
    "vector_test = vectorizer.transform(x_test)\n",
    "#x_train1.append(vector)"
   ]
  },
  {
   "cell_type": "code",
   "execution_count": 40,
   "id": "dd551859",
   "metadata": {},
   "outputs": [
    {
     "data": {
      "text/plain": [
       "\"vectorizer = TfidfVectorizer(stop_words='english')\\nvectorizer.fit(x_test)\\nvector_test = vectorizer.transform(x_test)\\n#x_train1.append(vector)\""
      ]
     },
     "execution_count": 40,
     "metadata": {},
     "output_type": "execute_result"
    }
   ],
   "source": [
    "'''vectorizer = TfidfVectorizer(stop_words='english')\n",
    "vectorizer.fit(x_test)\n",
    "vector_test = vectorizer.transform(x_test)\n",
    "#x_train1.append(vector)'''"
   ]
  },
  {
   "cell_type": "code",
   "execution_count": 41,
   "id": "73b84409",
   "metadata": {},
   "outputs": [],
   "source": [
    "from sklearn.naive_bayes import MultinomialNB"
   ]
  },
  {
   "cell_type": "code",
   "execution_count": 42,
   "id": "549870a6",
   "metadata": {},
   "outputs": [
    {
     "data": {
      "text/plain": [
       "MultinomialNB()"
      ]
     },
     "execution_count": 42,
     "metadata": {},
     "output_type": "execute_result"
    }
   ],
   "source": [
    "mnb = MultinomialNB()\n",
    "mnb.fit(vector_train, y_train)\n",
    "#mnb.predict(vector1)"
   ]
  },
  {
   "cell_type": "code",
   "execution_count": 43,
   "id": "6875f5ce",
   "metadata": {
    "scrolled": true
   },
   "outputs": [],
   "source": [
    "y_test = mnb.predict(vector_test)"
   ]
  },
  {
   "cell_type": "code",
   "execution_count": 44,
   "id": "47ce05cb",
   "metadata": {},
   "outputs": [
    {
     "data": {
      "text/plain": [
       "(18000, 14122)"
      ]
     },
     "execution_count": 44,
     "metadata": {},
     "output_type": "execute_result"
    }
   ],
   "source": [
    "vector_train.shape"
   ]
  },
  {
   "cell_type": "code",
   "execution_count": 45,
   "id": "29468c1f",
   "metadata": {},
   "outputs": [
    {
     "data": {
      "text/plain": [
       "(2000, 14122)"
      ]
     },
     "execution_count": 45,
     "metadata": {},
     "output_type": "execute_result"
    }
   ],
   "source": [
    "vector_test.shape"
   ]
  },
  {
   "cell_type": "code",
   "execution_count": 49,
   "id": "6a3b1c0d",
   "metadata": {},
   "outputs": [],
   "source": [
    "from sklearn.naive_bayes import GaussianNB"
   ]
  },
  {
   "cell_type": "code",
   "execution_count": 50,
   "id": "7d3c7ea9",
   "metadata": {},
   "outputs": [],
   "source": [
    "gnb = GaussianNB()"
   ]
  },
  {
   "cell_type": "code",
   "execution_count": 51,
   "id": "914d385b",
   "metadata": {},
   "outputs": [
    {
     "data": {
      "text/plain": [
       "GaussianNB()"
      ]
     },
     "execution_count": 51,
     "metadata": {},
     "output_type": "execute_result"
    }
   ],
   "source": [
    "gnb = GaussianNB()\n",
    "gnb.fit(vector_train.toarray(), y_train)"
   ]
  },
  {
   "cell_type": "code",
   "execution_count": 52,
   "id": "00c65c48",
   "metadata": {},
   "outputs": [],
   "source": [
    "y_test_gnb = gnb.predict(vector_test.toarray())"
   ]
  },
  {
   "cell_type": "code",
   "execution_count": 53,
   "id": "55d946ab",
   "metadata": {},
   "outputs": [
    {
     "name": "stdout",
     "output_type": "stream",
     "text": [
      "[0 0 0 ... 1 1 1]\n"
     ]
    }
   ],
   "source": [
    "print(y_test)"
   ]
  },
  {
   "cell_type": "code",
   "execution_count": 54,
   "id": "acd877e6",
   "metadata": {},
   "outputs": [
    {
     "name": "stdout",
     "output_type": "stream",
     "text": [
      "[1 0 4 ... 4 3 2]\n"
     ]
    }
   ],
   "source": [
    "print(y_test_gnb)"
   ]
  },
  {
   "cell_type": "code",
   "execution_count": 55,
   "id": "ffcd162b",
   "metadata": {},
   "outputs": [],
   "source": [
    "df_test = pd.DataFrame(y_test) \n",
    "df_test.to_csv('y_test.csv') "
   ]
  },
  {
   "cell_type": "code",
   "execution_count": 56,
   "id": "2d11cce4",
   "metadata": {},
   "outputs": [],
   "source": [
    "df_test_gnb = pd.DataFrame(y_test_gnb) \n",
    "df_test_gnb.to_csv('GaussianNavieBayes.csv') "
   ]
  },
  {
   "cell_type": "code",
   "execution_count": 57,
   "id": "fb37fe21",
   "metadata": {},
   "outputs": [],
   "source": [
    "from sklearn.naive_bayes import ComplementNB"
   ]
  },
  {
   "cell_type": "code",
   "execution_count": 58,
   "id": "0a16217c",
   "metadata": {},
   "outputs": [],
   "source": [
    "cnb = ComplementNB()"
   ]
  },
  {
   "cell_type": "code",
   "execution_count": 59,
   "id": "88c0752c",
   "metadata": {},
   "outputs": [
    {
     "data": {
      "text/plain": [
       "ComplementNB()"
      ]
     },
     "execution_count": 59,
     "metadata": {},
     "output_type": "execute_result"
    }
   ],
   "source": [
    "cnb.fit(vector_train.toarray(), y_train)"
   ]
  },
  {
   "cell_type": "code",
   "execution_count": 60,
   "id": "98099e3e",
   "metadata": {},
   "outputs": [],
   "source": [
    "y_test_cnb = cnb.predict(vector_test.toarray())"
   ]
  },
  {
   "cell_type": "code",
   "execution_count": 61,
   "id": "1b8936db",
   "metadata": {},
   "outputs": [
    {
     "name": "stdout",
     "output_type": "stream",
     "text": [
      "[0 0 0 ... 1 1 1]\n"
     ]
    }
   ],
   "source": [
    "print(y_test)"
   ]
  },
  {
   "cell_type": "code",
   "execution_count": 62,
   "id": "5480703b",
   "metadata": {},
   "outputs": [
    {
     "name": "stdout",
     "output_type": "stream",
     "text": [
      "[0 0 0 ... 1 1 4]\n"
     ]
    }
   ],
   "source": [
    "print(y_test_cnb)"
   ]
  },
  {
   "cell_type": "code",
   "execution_count": 63,
   "id": "268ff987",
   "metadata": {},
   "outputs": [],
   "source": [
    "df_test_cnb = pd.DataFrame(y_test_cnb) \n",
    "df_test_cnb.to_csv('ComplementNavieBayesResult.csv')"
   ]
  },
  {
   "cell_type": "code",
   "execution_count": null,
   "id": "1051ca76",
   "metadata": {},
   "outputs": [],
   "source": []
  },
  {
   "cell_type": "code",
   "execution_count": null,
   "id": "c8e765f2",
   "metadata": {},
   "outputs": [],
   "source": []
  },
  {
   "cell_type": "code",
   "execution_count": null,
   "id": "08022904",
   "metadata": {},
   "outputs": [],
   "source": []
  }
 ],
 "metadata": {
  "kernelspec": {
   "display_name": "Python 3",
   "language": "python",
   "name": "python3"
  },
  "language_info": {
   "codemirror_mode": {
    "name": "ipython",
    "version": 3
   },
   "file_extension": ".py",
   "mimetype": "text/x-python",
   "name": "python",
   "nbconvert_exporter": "python",
   "pygments_lexer": "ipython3",
   "version": "3.8.8"
  }
 },
 "nbformat": 4,
 "nbformat_minor": 5
}
